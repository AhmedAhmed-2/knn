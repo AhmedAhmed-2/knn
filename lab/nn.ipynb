{
 "cells": [
  {
   "cell_type": "markdown",
   "metadata": {},
   "source": [
    "## Prepare neural network and data loaders:"
   ]
  },
  {
   "cell_type": "code",
   "execution_count": 1,
   "metadata": {},
   "outputs": [],
   "source": [
    "import numpy as np\n",
    "import pandas as pd\n",
    "import torch\n",
    "import torchvision\n",
    "import torchvision.transforms as transforms\n",
    "import torch.nn as nn\n",
    "import torch.nn.functional as F\n",
    "import torch.optim as optim\n",
    "\n",
    "# Get MNIST data:\n",
    "train_dataset = torchvision.datasets.MNIST(root='./data', train=True, download=True,\n",
    "                                           transform=transforms.ToTensor())\n",
    "test_dataset = torchvision.datasets.MNIST(root='./data', train=False, download=True,\n",
    "                                          transform=transforms.ToTensor())\n",
    "\n",
    "# Create data loaders for batch training: \n",
    "train_loader = torch.utils.data.DataLoader(train_dataset, batch_size=64, shuffle=True) # Randomize training data order\n",
    "test_loader = torch.utils.data.DataLoader(test_dataset, batch_size=64, shuffle=False)\n",
    "\n",
    "# Build the nn model as a class/object:\n",
    "class Net(nn.Module): # Class Net inherits from the nn.Module class\n",
    "    \n",
    "    def __init__(self): # Specify architecture\n",
    "        super(Net, self).__init__()\n",
    "        self.fc1 = nn.Linear(28*28, 128) # Input* 28*28 -> 128 hidden nodes\n",
    "        self.fc2 = nn.Linear(128, 64) # 128 hidden nodes -> 64 hidden nodes\n",
    "        self.fc3 = nn.Linear(64, 10) # Output: hidden nodes 64 -> 10 labels\n",
    "\n",
    "    def forward(self, x): # Specify activation\n",
    "        x = x.view(-1, 28*28) # Input layer\n",
    "        x = F.relu(self.fc1(x)) # Relu layer 1\n",
    "        x = F.relu(self.fc2(x)) # Relu layer 2\n",
    "        x = self.fc3(x) # Output later\n",
    "        return x\n",
    "\n",
    "model = Net() # Initialize untrained model\n",
    "\n",
    "# Select loss function and optimizer: \n",
    "criterion = nn.CrossEntropyLoss() # Loss function: Categorical cross entropy\n",
    "optimizer = optim.Adam(model.parameters()) # Optimizer: Adam\n",
    "L = 15 # training length (another hyperparameter)\n"
   ]
  },
  {
   "cell_type": "markdown",
   "metadata": {},
   "source": [
    "## Train model:"
   ]
  },
  {
   "cell_type": "code",
   "execution_count": 2,
   "metadata": {},
   "outputs": [],
   "source": [
    "\n",
    "# Train model: \n",
    "for epoch in range(L): # Control length of training\n",
    "    for i, data in enumerate(train_loader): \n",
    "        inputs, labels = data # Get this data chunk\n",
    "        optimizer.zero_grad() # Set gradients to zero\n",
    "        outputs = model(inputs) # Use current model to make predictions \n",
    "        loss = criterion(outputs, labels) # Evaluate current loss\n",
    "        loss.backward() # Back-propagation for next iteration\n",
    "        optimizer.step() # Find a lower loss set of weights\n"
   ]
  },
  {
   "cell_type": "markdown",
   "metadata": {},
   "source": [
    "## Evaluate model:"
   ]
  },
  {
   "cell_type": "code",
   "execution_count": 3,
   "metadata": {},
   "outputs": [
    {
     "name": "stdout",
     "output_type": "stream",
     "text": [
      "col_0    0     1     2    3    4    5    6     7    8    9\n",
      "row_0                                                     \n",
      "0      970     0     5    0    0    2    4     0    6    2\n",
      "1        0  1121     1    0    0    0    2     4    1    2\n",
      "2        0     2  1005    5    3    0    2     9    3    0\n",
      "3        1     1     5  980    0    2    1     2    3    2\n",
      "4        0     0     2    0  955    1    3     1    3    8\n",
      "5        1     1     1   11    1  883    2     1   10    4\n",
      "6        2     2     3    0    6    1  942     0    3    0\n",
      "7        0     2     3    3    5    0    0  1001    0    6\n",
      "8        4     6     6    2    2    1    2     3  938    2\n",
      "9        2     0     1    9   10    2    0     7    7  983\n",
      "Accuracy: 97 %\n"
     ]
    }
   ],
   "source": [
    "y_hat = [] # Predicted values\n",
    "y_act = [] # Actual values\n",
    "\n",
    "with torch.no_grad(): # Do not update gradient\n",
    "    for data in test_loader: # Iterate over data batches\n",
    "        inputs, labels = data # (y,X)\n",
    "        outputs = model(inputs) # evaluate model for these data\n",
    "        max_values, predicted_values = torch.max(outputs.data, 1) # extract predictions\n",
    "        y_act+=labels.tolist() # Add actual values\n",
    "        y_hat+=predicted_values.tolist() # Add predicted values\n",
    "\n",
    "print( pd.crosstab(y_hat, y_act) ) # Confusion matrix\n",
    "\n",
    "acc = np.sum( [y_hat[i] == y_act[i] for i in range(len(y_hat))] ) / len(y_hat)\n",
    "print('Accuracy: %d %%' % (100 * acc)) # Accuracy"
   ]
  }
 ],
 "metadata": {
  "kernelspec": {
   "display_name": "base",
   "language": "python",
   "name": "python3"
  },
  "language_info": {
   "codemirror_mode": {
    "name": "ipython",
    "version": 3
   },
   "file_extension": ".py",
   "mimetype": "text/x-python",
   "name": "python",
   "nbconvert_exporter": "python",
   "pygments_lexer": "ipython3",
   "version": "3.12.2"
  }
 },
 "nbformat": 4,
 "nbformat_minor": 2
}
